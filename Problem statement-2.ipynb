{
 "cells": [
  {
   "cell_type": "markdown",
   "id": "67f61b49",
   "metadata": {},
   "source": [
    "## PROBLEM STATEMENT 1-\n",
    "### Write a program to add two lists index-wise. Create a new list that contains the 0th index item from both the list, then the 1st index item, and so on till the last element. any leftover items will get added at the end of the new list."
   ]
  },
  {
   "cell_type": "code",
   "execution_count": 12,
   "id": "72060b8d",
   "metadata": {},
   "outputs": [
    {
     "name": "stdout",
     "output_type": "stream",
     "text": [
      "['Hii my', 'name is', 'Aarya Yadav']\n"
     ]
    }
   ],
   "source": [
    "list1=['Hii','name','Aarya']\n",
    "list2=[' my',' is',' Yadav']\n",
    "list3=[]\n",
    "for i in range(len(list1)):\n",
    "    list3.append(list1[i]+list2[i])\n",
    "print(list3)\n",
    "\n",
    "\n"
   ]
  },
  {
   "cell_type": "markdown",
   "id": "2f1ce0ab",
   "metadata": {},
   "source": [
    "### ANOTHER METHOD-"
   ]
  },
  {
   "cell_type": "code",
   "execution_count": 13,
   "id": "d2f615e0",
   "metadata": {},
   "outputs": [
    {
     "name": "stdout",
     "output_type": "stream",
     "text": [
      "['My', 'name', 'is', 'Aarya']\n"
     ]
    }
   ],
   "source": [
    "list1 = [\"M\", \"na\", \"i\", \"Aa\"] \n",
    "list2 = [\"y\", \"me\", \"s\", \"rya\"]\n",
    "list3 = [i + j for i, j in zip(list1, list2)]\n",
    "print(list3)"
   ]
  },
  {
   "cell_type": "markdown",
   "id": "3ef78dfa",
   "metadata": {},
   "source": [
    "## PROBLEM STATEMENT  2-\n",
    "### Given a list of numbers. write a program to turn every item of a list into its square."
   ]
  },
  {
   "cell_type": "code",
   "execution_count": 1,
   "id": "8f6257d2",
   "metadata": {},
   "outputs": [
    {
     "name": "stdout",
     "output_type": "stream",
     "text": [
      "[1, 4, 9, 16, 25, 36, 49]\n"
     ]
    }
   ],
   "source": [
    "numbers = [1, 2, 3, 4, 5, 6, 7]\n",
    "# result list\n",
    "squares= []\n",
    "for i in numbers:\n",
    "    # calculate square and add to the result list\n",
    "    squares.append(i * i)\n",
    "print(squares)"
   ]
  },
  {
   "cell_type": "markdown",
   "id": "226cebbd",
   "metadata": {},
   "source": [
    "## PROBLEM STATEMENT 3-Given an unsorted list of some elements(may or may not be integers), Find the frequency of each distinct element in the list using a dictionary. "
   ]
  },
  {
   "cell_type": "code",
   "execution_count": 15,
   "id": "43647471",
   "metadata": {},
   "outputs": [
    {
     "name": "stdout",
     "output_type": "stream",
     "text": [
      " 1 :  5\n",
      " 5 :  2\n",
      " 3 :  3\n",
      " 4 :  3\n",
      " 2 :  4\n"
     ]
    }
   ],
   "source": [
    "def CountFrequency(my_list):\n",
    " \n",
    "    # Creating an empty dictionary\n",
    "    freq = {}\n",
    "    for item in my_list:\n",
    "        if (item in freq):\n",
    "            freq[item] += 1\n",
    "        else:\n",
    "            freq[item] = 1\n",
    " \n",
    "    for key, value in freq.items():\n",
    "        print (\"% d : % d\"%(key, value))\n",
    " \n",
    "\n",
    "if __name__ == \"__main__\":\n",
    "    my_list =[1, 1, 1, 5, 5, 3, 1, 3, 3, 1, 4, 4, 4, 2, 2, 2, 2]\n",
    " \n",
    "    CountFrequency(my_list)"
   ]
  },
  {
   "cell_type": "markdown",
   "id": "d8d9bb91",
   "metadata": {},
   "source": [
    "## PROBLEM STATEMENT 4-Given a string S of lower case characters. The task is to check whether a the given string is Heterogram or not. A heterogram is a word, phrase, or sentence in which no letter of the alphabet occurs more than once. "
   ]
  },
  {
   "cell_type": "code",
   "execution_count": 17,
   "id": "d31a3c7d",
   "metadata": {},
   "outputs": [
    {
     "name": "stdout",
     "output_type": "stream",
     "text": [
      "Yes\n"
     ]
    }
   ],
   "source": [
    "def heterogram(input):\n",
    " \n",
    "     # separate out list of alphabets using list comprehension\n",
    "     # ord function returns ascii value of character\n",
    "     alphabets = [ ch for ch in input if ( ord(ch) >= ord('a') and ord(ch) <= ord('z') )]\n",
    " \n",
    "     # convert list of alphabets into set and\n",
    "     # compare lengths\n",
    "     if len(set(alphabets))==len(alphabets):\n",
    "         print ('Yes')\n",
    "     else:\n",
    "         print ('No')\n",
    "            \n",
    "# Driver program\n",
    "if __name__ == \"__main__\":\n",
    "    input = 'the big dwarf only jumps'\n",
    "    heterogram(input)"
   ]
  },
  {
   "cell_type": "code",
   "execution_count": null,
   "id": "939b4e3b",
   "metadata": {},
   "outputs": [],
   "source": []
  }
 ],
 "metadata": {
  "kernelspec": {
   "display_name": "Python 3 (ipykernel)",
   "language": "python",
   "name": "python3"
  },
  "language_info": {
   "codemirror_mode": {
    "name": "ipython",
    "version": 3
   },
   "file_extension": ".py",
   "mimetype": "text/x-python",
   "name": "python",
   "nbconvert_exporter": "python",
   "pygments_lexer": "ipython3",
   "version": "3.9.12"
  }
 },
 "nbformat": 4,
 "nbformat_minor": 5
}
